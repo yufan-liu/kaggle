{
 "cells": [
  {
   "cell_type": "code",
   "execution_count": 37,
   "metadata": {},
   "outputs": [],
   "source": [
    "import numpy as np\n",
    "import pandas as pd\n",
    "import sklearn\n",
    "import matplotlib.pyplot as plt\n",
    "import seaborn as sns"
   ]
  },
  {
   "cell_type": "markdown",
   "metadata": {},
   "source": [
    "# Load data from csv"
   ]
  },
  {
   "cell_type": "code",
   "execution_count": 38,
   "metadata": {},
   "outputs": [],
   "source": [
    "data = pd.read_csv('data.csv')"
   ]
  },
  {
   "cell_type": "code",
   "execution_count": 39,
   "metadata": {},
   "outputs": [
    {
     "data": {
      "text/plain": [
       "(30697, 25)"
      ]
     },
     "execution_count": 39,
     "metadata": {},
     "output_type": "execute_result"
    }
   ],
   "source": [
    "data.shape"
   ]
  },
  {
   "cell_type": "code",
   "execution_count": 40,
   "metadata": {},
   "outputs": [
    {
     "data": {
      "text/html": [
       "<div>\n",
       "<table border=\"1\" class=\"dataframe\">\n",
       "  <thead>\n",
       "    <tr style=\"text-align: right;\">\n",
       "      <th></th>\n",
       "      <th>action_type</th>\n",
       "      <th>combined_shot_type</th>\n",
       "      <th>game_event_id</th>\n",
       "      <th>game_id</th>\n",
       "      <th>lat</th>\n",
       "      <th>loc_x</th>\n",
       "      <th>loc_y</th>\n",
       "      <th>lon</th>\n",
       "      <th>minutes_remaining</th>\n",
       "      <th>period</th>\n",
       "      <th>...</th>\n",
       "      <th>shot_type</th>\n",
       "      <th>shot_zone_area</th>\n",
       "      <th>shot_zone_basic</th>\n",
       "      <th>shot_zone_range</th>\n",
       "      <th>team_id</th>\n",
       "      <th>team_name</th>\n",
       "      <th>game_date</th>\n",
       "      <th>matchup</th>\n",
       "      <th>opponent</th>\n",
       "      <th>shot_id</th>\n",
       "    </tr>\n",
       "  </thead>\n",
       "  <tbody>\n",
       "    <tr>\n",
       "      <th>0</th>\n",
       "      <td>Jump Shot</td>\n",
       "      <td>Jump Shot</td>\n",
       "      <td>10</td>\n",
       "      <td>20000012</td>\n",
       "      <td>33.9723</td>\n",
       "      <td>167</td>\n",
       "      <td>72</td>\n",
       "      <td>-118.1028</td>\n",
       "      <td>10</td>\n",
       "      <td>1</td>\n",
       "      <td>...</td>\n",
       "      <td>2PT Field Goal</td>\n",
       "      <td>Right Side(R)</td>\n",
       "      <td>Mid-Range</td>\n",
       "      <td>16-24 ft.</td>\n",
       "      <td>1610612747</td>\n",
       "      <td>Los Angeles Lakers</td>\n",
       "      <td>2000-10-31</td>\n",
       "      <td>LAL @ POR</td>\n",
       "      <td>POR</td>\n",
       "      <td>1</td>\n",
       "    </tr>\n",
       "    <tr>\n",
       "      <th>1</th>\n",
       "      <td>Jump Shot</td>\n",
       "      <td>Jump Shot</td>\n",
       "      <td>12</td>\n",
       "      <td>20000012</td>\n",
       "      <td>34.0443</td>\n",
       "      <td>-157</td>\n",
       "      <td>0</td>\n",
       "      <td>-118.4268</td>\n",
       "      <td>10</td>\n",
       "      <td>1</td>\n",
       "      <td>...</td>\n",
       "      <td>2PT Field Goal</td>\n",
       "      <td>Left Side(L)</td>\n",
       "      <td>Mid-Range</td>\n",
       "      <td>8-16 ft.</td>\n",
       "      <td>1610612747</td>\n",
       "      <td>Los Angeles Lakers</td>\n",
       "      <td>2000-10-31</td>\n",
       "      <td>LAL @ POR</td>\n",
       "      <td>POR</td>\n",
       "      <td>2</td>\n",
       "    </tr>\n",
       "    <tr>\n",
       "      <th>2</th>\n",
       "      <td>Jump Shot</td>\n",
       "      <td>Jump Shot</td>\n",
       "      <td>35</td>\n",
       "      <td>20000012</td>\n",
       "      <td>33.9093</td>\n",
       "      <td>-101</td>\n",
       "      <td>135</td>\n",
       "      <td>-118.3708</td>\n",
       "      <td>7</td>\n",
       "      <td>1</td>\n",
       "      <td>...</td>\n",
       "      <td>2PT Field Goal</td>\n",
       "      <td>Left Side Center(LC)</td>\n",
       "      <td>Mid-Range</td>\n",
       "      <td>16-24 ft.</td>\n",
       "      <td>1610612747</td>\n",
       "      <td>Los Angeles Lakers</td>\n",
       "      <td>2000-10-31</td>\n",
       "      <td>LAL @ POR</td>\n",
       "      <td>POR</td>\n",
       "      <td>3</td>\n",
       "    </tr>\n",
       "    <tr>\n",
       "      <th>3</th>\n",
       "      <td>Jump Shot</td>\n",
       "      <td>Jump Shot</td>\n",
       "      <td>43</td>\n",
       "      <td>20000012</td>\n",
       "      <td>33.8693</td>\n",
       "      <td>138</td>\n",
       "      <td>175</td>\n",
       "      <td>-118.1318</td>\n",
       "      <td>6</td>\n",
       "      <td>1</td>\n",
       "      <td>...</td>\n",
       "      <td>2PT Field Goal</td>\n",
       "      <td>Right Side Center(RC)</td>\n",
       "      <td>Mid-Range</td>\n",
       "      <td>16-24 ft.</td>\n",
       "      <td>1610612747</td>\n",
       "      <td>Los Angeles Lakers</td>\n",
       "      <td>2000-10-31</td>\n",
       "      <td>LAL @ POR</td>\n",
       "      <td>POR</td>\n",
       "      <td>4</td>\n",
       "    </tr>\n",
       "    <tr>\n",
       "      <th>4</th>\n",
       "      <td>Driving Dunk Shot</td>\n",
       "      <td>Dunk</td>\n",
       "      <td>155</td>\n",
       "      <td>20000012</td>\n",
       "      <td>34.0443</td>\n",
       "      <td>0</td>\n",
       "      <td>0</td>\n",
       "      <td>-118.2698</td>\n",
       "      <td>6</td>\n",
       "      <td>2</td>\n",
       "      <td>...</td>\n",
       "      <td>2PT Field Goal</td>\n",
       "      <td>Center(C)</td>\n",
       "      <td>Restricted Area</td>\n",
       "      <td>Less Than 8 ft.</td>\n",
       "      <td>1610612747</td>\n",
       "      <td>Los Angeles Lakers</td>\n",
       "      <td>2000-10-31</td>\n",
       "      <td>LAL @ POR</td>\n",
       "      <td>POR</td>\n",
       "      <td>5</td>\n",
       "    </tr>\n",
       "  </tbody>\n",
       "</table>\n",
       "<p>5 rows × 25 columns</p>\n",
       "</div>"
      ],
      "text/plain": [
       "         action_type combined_shot_type  game_event_id   game_id      lat  \\\n",
       "0          Jump Shot          Jump Shot             10  20000012  33.9723   \n",
       "1          Jump Shot          Jump Shot             12  20000012  34.0443   \n",
       "2          Jump Shot          Jump Shot             35  20000012  33.9093   \n",
       "3          Jump Shot          Jump Shot             43  20000012  33.8693   \n",
       "4  Driving Dunk Shot               Dunk            155  20000012  34.0443   \n",
       "\n",
       "   loc_x  loc_y       lon  minutes_remaining  period   ...          shot_type  \\\n",
       "0    167     72 -118.1028                 10       1   ...     2PT Field Goal   \n",
       "1   -157      0 -118.4268                 10       1   ...     2PT Field Goal   \n",
       "2   -101    135 -118.3708                  7       1   ...     2PT Field Goal   \n",
       "3    138    175 -118.1318                  6       1   ...     2PT Field Goal   \n",
       "4      0      0 -118.2698                  6       2   ...     2PT Field Goal   \n",
       "\n",
       "          shot_zone_area  shot_zone_basic  shot_zone_range     team_id  \\\n",
       "0          Right Side(R)        Mid-Range        16-24 ft.  1610612747   \n",
       "1           Left Side(L)        Mid-Range         8-16 ft.  1610612747   \n",
       "2   Left Side Center(LC)        Mid-Range        16-24 ft.  1610612747   \n",
       "3  Right Side Center(RC)        Mid-Range        16-24 ft.  1610612747   \n",
       "4              Center(C)  Restricted Area  Less Than 8 ft.  1610612747   \n",
       "\n",
       "            team_name   game_date    matchup opponent  shot_id  \n",
       "0  Los Angeles Lakers  2000-10-31  LAL @ POR      POR        1  \n",
       "1  Los Angeles Lakers  2000-10-31  LAL @ POR      POR        2  \n",
       "2  Los Angeles Lakers  2000-10-31  LAL @ POR      POR        3  \n",
       "3  Los Angeles Lakers  2000-10-31  LAL @ POR      POR        4  \n",
       "4  Los Angeles Lakers  2000-10-31  LAL @ POR      POR        5  \n",
       "\n",
       "[5 rows x 25 columns]"
      ]
     },
     "execution_count": 40,
     "metadata": {},
     "output_type": "execute_result"
    }
   ],
   "source": [
    "data.head(5)"
   ]
  },
  {
   "cell_type": "code",
   "execution_count": 41,
   "metadata": {},
   "outputs": [
    {
     "data": {
      "text/plain": [
       "array(['Jump Shot', 'Driving Dunk Shot', 'Layup Shot', 'Running Jump Shot',\n",
       "       'Driving Layup Shot', 'Reverse Layup Shot', 'Reverse Dunk Shot',\n",
       "       'Slam Dunk Shot', 'Turnaround Jump Shot', 'Tip Shot',\n",
       "       'Running Hook Shot', 'Alley Oop Dunk Shot', 'Dunk Shot',\n",
       "       'Alley Oop Layup shot', 'Running Dunk Shot',\n",
       "       'Driving Finger Roll Shot', 'Running Layup Shot',\n",
       "       'Finger Roll Shot', 'Fadeaway Jump Shot', 'Follow Up Dunk Shot',\n",
       "       'Hook Shot', 'Turnaround Hook Shot', 'Running Tip Shot',\n",
       "       'Jump Hook Shot', 'Running Finger Roll Shot', 'Jump Bank Shot',\n",
       "       'Turnaround Finger Roll Shot', 'Hook Bank Shot',\n",
       "       'Driving Hook Shot', 'Running Reverse Layup Shot',\n",
       "       'Driving Finger Roll Layup Shot', 'Fadeaway Bank shot',\n",
       "       'Pullup Jump shot', 'Finger Roll Layup Shot',\n",
       "       'Turnaround Fadeaway shot', 'Driving Reverse Layup Shot',\n",
       "       'Driving Slam Dunk Shot', 'Step Back Jump shot',\n",
       "       'Reverse Slam Dunk Shot', 'Turnaround Bank shot',\n",
       "       'Running Finger Roll Layup Shot', 'Floating Jump shot',\n",
       "       'Putback Slam Dunk Shot', 'Running Bank shot', 'Driving Bank shot',\n",
       "       'Putback Layup Shot', 'Driving Jump shot', 'Putback Dunk Shot',\n",
       "       'Pullup Bank shot', 'Running Slam Dunk Shot', 'Cutting Layup Shot',\n",
       "       'Driving Floating Jump Shot', 'Running Pull-Up Jump Shot',\n",
       "       'Tip Layup Shot', 'Driving Floating Bank Jump Shot',\n",
       "       'Turnaround Fadeaway Bank Jump Shot',\n",
       "       'Cutting Finger Roll Layup Shot'], dtype=object)"
      ]
     },
     "execution_count": 41,
     "metadata": {},
     "output_type": "execute_result"
    }
   ],
   "source": [
    "data.action_type.unique()"
   ]
  },
  {
   "cell_type": "code",
   "execution_count": 47,
   "metadata": {},
   "outputs": [],
   "source": [
    "action_type_seq = data.action_type"
   ]
  },
  {
   "cell_type": "code",
   "execution_count": 48,
   "metadata": {},
   "outputs": [
    {
     "data": {
      "text/plain": [
       "pandas.core.series.Series"
      ]
     },
     "execution_count": 48,
     "metadata": {},
     "output_type": "execute_result"
    }
   ],
   "source": [
    "type(action_type_seq)"
   ]
  },
  {
   "cell_type": "code",
   "execution_count": 54,
   "metadata": {},
   "outputs": [],
   "source": [
    "df = data"
   ]
  },
  {
   "cell_type": "code",
   "execution_count": 56,
   "metadata": {},
   "outputs": [
    {
     "data": {
      "text/plain": [
       "Jump Shot                             18880\n",
       "Layup Shot                             2567\n",
       "Driving Layup Shot                     1978\n",
       "Turnaround Jump Shot                   1057\n",
       "Fadeaway Jump Shot                     1048\n",
       "Running Jump Shot                       926\n",
       "Pullup Jump shot                        476\n",
       "Turnaround Fadeaway shot                439\n",
       "Slam Dunk Shot                          411\n",
       "Reverse Layup Shot                      395\n",
       "Jump Bank Shot                          333\n",
       "Driving Dunk Shot                       310\n",
       "Dunk Shot                               262\n",
       "Tip Shot                                182\n",
       "Alley Oop Dunk Shot                     122\n",
       "Step Back Jump shot                     118\n",
       "Floating Jump shot                      114\n",
       "Driving Reverse Layup Shot               97\n",
       "Hook Shot                                84\n",
       "Driving Finger Roll Shot                 82\n",
       "Alley Oop Layup shot                     80\n",
       "Reverse Dunk Shot                        75\n",
       "Running Layup Shot                       72\n",
       "Turnaround Bank shot                     71\n",
       "Driving Finger Roll Layup Shot           69\n",
       "Driving Slam Dunk Shot                   48\n",
       "Running Bank shot                        48\n",
       "Running Hook Shot                        41\n",
       "Finger Roll Layup Shot                   33\n",
       "Fadeaway Bank shot                       31\n",
       "Finger Roll Shot                         28\n",
       "Driving Jump shot                        28\n",
       "Jump Hook Shot                           24\n",
       "Running Dunk Shot                        19\n",
       "Reverse Slam Dunk Shot                   16\n",
       "Putback Layup Shot                       15\n",
       "Follow Up Dunk Shot                      15\n",
       "Driving Hook Shot                        14\n",
       "Turnaround Hook Shot                     14\n",
       "Pullup Bank shot                         12\n",
       "Running Reverse Layup Shot               11\n",
       "Cutting Layup Shot                        6\n",
       "Running Finger Roll Layup Shot            6\n",
       "Driving Bank shot                         5\n",
       "Putback Dunk Shot                         5\n",
       "Hook Bank Shot                            5\n",
       "Driving Floating Jump Shot                5\n",
       "Running Finger Roll Shot                  4\n",
       "Running Pull-Up Jump Shot                 4\n",
       "Running Tip Shot                          2\n",
       "Turnaround Finger Roll Shot               2\n",
       "Tip Layup Shot                            2\n",
       "Putback Slam Dunk Shot                    2\n",
       "Cutting Finger Roll Layup Shot            1\n",
       "Driving Floating Bank Jump Shot           1\n",
       "Turnaround Fadeaway Bank Jump Shot        1\n",
       "Running Slam Dunk Shot                    1\n",
       "Name: action_type, dtype: int64"
      ]
     },
     "execution_count": 56,
     "metadata": {},
     "output_type": "execute_result"
    }
   ],
   "source": [
    "df.action_type.value_counts()"
   ]
  },
  {
   "cell_type": "code",
   "execution_count": 59,
   "metadata": {},
   "outputs": [
    {
     "data": {
      "text/plain": [
       "Jump Shot    23485\n",
       "Layup         5448\n",
       "Dunk          1286\n",
       "Tip Shot       184\n",
       "Hook Shot      153\n",
       "Bank Shot      141\n",
       "Name: combined_shot_type, dtype: int64"
      ]
     },
     "execution_count": 59,
     "metadata": {},
     "output_type": "execute_result"
    }
   ],
   "source": [
    "df.combined_shot_type.value_counts()"
   ]
  },
  {
   "cell_type": "code",
   "execution_count": 62,
   "metadata": {},
   "outputs": [
    {
     "data": {
      "text/plain": [
       "3    8296\n",
       "1    8048\n",
       "4    7260\n",
       "2    6718\n",
       "5     330\n",
       "6      38\n",
       "7       7\n",
       "Name: period, dtype: int64"
      ]
     },
     "execution_count": 62,
     "metadata": {},
     "output_type": "execute_result"
    }
   ],
   "source": [
    "df.period.value_counts()"
   ]
  },
  {
   "cell_type": "code",
   "execution_count": null,
   "metadata": {},
   "outputs": [],
   "source": []
  }
 ],
 "metadata": {
  "kernelspec": {
   "display_name": "Python 3",
   "language": "python",
   "name": "python3"
  },
  "language_info": {
   "codemirror_mode": {
    "name": "ipython",
    "version": 3
   },
   "file_extension": ".py",
   "mimetype": "text/x-python",
   "name": "python",
   "nbconvert_exporter": "python",
   "pygments_lexer": "ipython3",
   "version": "3.5.3"
  }
 },
 "nbformat": 4,
 "nbformat_minor": 2
}
